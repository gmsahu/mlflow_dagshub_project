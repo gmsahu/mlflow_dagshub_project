{
 "cells": [
  {
   "cell_type": "markdown",
   "id": "2ea17bd6-5484-4a7e-8a90-57d5f83950a9",
   "metadata": {},
   "source": [
    "## MLFlow example with  tracking uri"
   ]
  },
  {
   "cell_type": "code",
   "execution_count": 16,
   "id": "eb3afe5e-8496-46c7-9846-000934b86223",
   "metadata": {},
   "outputs": [],
   "source": [
    "import numpy as np\n",
    "from sklearn.datasets import make_classification\n",
    "from sklearn.model_selection import train_test_split\n",
    "from sklearn.linear_model import LogisticRegression\n",
    "from sklearn.ensemble import RandomForestClassifier\n",
    "from xgboost import XGBClassifier\n",
    "from sklearn.metrics import classification_report\n",
    "import warnings\n",
    "warnings.filterwarnings('ignore')"
   ]
  },
  {
   "cell_type": "code",
   "execution_count": 17,
   "id": "302ef414-e66f-4a16-86e4-c5cac3f21191",
   "metadata": {},
   "outputs": [
    {
     "data": {
      "text/plain": [
       "(array([0, 1]), array([1080,  120]))"
      ]
     },
     "execution_count": 17,
     "metadata": {},
     "output_type": "execute_result"
    }
   ],
   "source": [
    "# Step 1: Create an imbalanced binary classification dataset\n",
    "X, y = make_classification(n_samples=1200, n_features=10, n_informative=2, n_redundant=8, \n",
    "                           weights=[0.9, 0.1], flip_y=0, random_state=42)\n",
    "\n",
    "np.unique(y, return_counts=True)"
   ]
  },
  {
   "cell_type": "code",
   "execution_count": 18,
   "id": "0d85e8d6-f22a-4775-80b7-1826c41b4d52",
   "metadata": {},
   "outputs": [],
   "source": [
    "# Split the dataset into training and testing sets\n",
    "X_train, X_test, y_train, y_test = train_test_split(X, y, test_size=0.3, stratify=y, random_state=42)"
   ]
  },
  {
   "cell_type": "code",
   "execution_count": 19,
   "id": "3cd63dcb-d18c-48a6-b33c-446172627edf",
   "metadata": {},
   "outputs": [
    {
     "name": "stdout",
     "output_type": "stream",
     "text": [
      "              precision    recall  f1-score   support\n",
      "\n",
      "           0       0.95      1.00      0.98       324\n",
      "           1       1.00      0.56      0.71        36\n",
      "\n",
      "    accuracy                           0.96       360\n",
      "   macro avg       0.98      0.78      0.85       360\n",
      "weighted avg       0.96      0.96      0.95       360\n",
      "\n"
     ]
    }
   ],
   "source": [
    "# Define the model hyperparameters\n",
    "params = {\n",
    "    \"solver\": \"lbfgs\",\n",
    "    \"max_iter\": 1000,\n",
    "    \"multi_class\": \"auto\",\n",
    "    \"random_state\": 8888,\n",
    "}\n",
    "\n",
    "# Train the model\n",
    "lr = LogisticRegression(**params)\n",
    "lr.fit(X_train, y_train)\n",
    "\n",
    "# Predict on the test set\n",
    "y_pred = lr.predict(X_test)\n",
    "\n",
    "report = classification_report(y_test, y_pred)\n",
    "print(report)\n"
   ]
  },
  {
   "cell_type": "code",
   "execution_count": 20,
   "id": "4727d294-7dfc-4a46-9679-b5678bf6f8e6",
   "metadata": {},
   "outputs": [
    {
     "data": {
      "text/plain": [
       "{'0': {'precision': 0.9529411764705882,\n",
       "  'recall': 1.0,\n",
       "  'f1-score': 0.9759036144578312,\n",
       "  'support': 324},\n",
       " '1': {'precision': 1.0,\n",
       "  'recall': 0.5555555555555556,\n",
       "  'f1-score': 0.7142857142857143,\n",
       "  'support': 36},\n",
       " 'accuracy': 0.9555555555555556,\n",
       " 'macro avg': {'precision': 0.9764705882352941,\n",
       "  'recall': 0.7777777777777778,\n",
       "  'f1-score': 0.8450946643717727,\n",
       "  'support': 360},\n",
       " 'weighted avg': {'precision': 0.9576470588235294,\n",
       "  'recall': 0.9555555555555556,\n",
       "  'f1-score': 0.9497418244406196,\n",
       "  'support': 360}}"
      ]
     },
     "execution_count": 20,
     "metadata": {},
     "output_type": "execute_result"
    }
   ],
   "source": [
    "report_dict = classification_report(y_test, y_pred, output_dict=True)\n",
    "report_dict\n"
   ]
  },
  {
   "cell_type": "code",
   "execution_count": 21,
   "id": "bbb7d912-1c55-4a7a-b625-5535ab99927e",
   "metadata": {},
   "outputs": [
    {
     "data": {
      "text/plain": [
       "0.9555555555555556"
      ]
     },
     "execution_count": 21,
     "metadata": {},
     "output_type": "execute_result"
    }
   ],
   "source": [
    "report_dict['accuracy']"
   ]
  },
  {
   "cell_type": "code",
   "execution_count": null,
   "id": "2ac9185d-a523-4b15-853b-cf2536f432df",
   "metadata": {},
   "outputs": [],
   "source": [
    "#Start the MLflow Server\n",
    "import subprocess\n",
    "\n",
    "mlflow_process = subprocess.Popen(\n",
    "    [\"mlflow\", \"server\", \"--host\", \"127.0.0.1\", \"--port\", \"5000\"],\n",
    "    stdout=subprocess.PIPE,\n",
    "    stderr=subprocess.PIPE,\n",
    "    text=True\n",
    ")\n",
    "print(f\"MLflow server is running with PID: {mlflow_process.pid}\")"
   ]
  },
  {
   "cell_type": "markdown",
   "id": "4b77b963-8951-4fd1-a189-73625d421c12",
   "metadata": {},
   "source": [
    "# Run a local Tracking Server"
   ]
  },
  {
   "cell_type": "code",
   "execution_count": 22,
   "id": "397b03f2-6c6d-49de-bf7d-4b2b2a7297a3",
   "metadata": {},
   "outputs": [],
   "source": [
    "# After starting the server, interact with it\n",
    "import mlflow\n",
    "\n",
    "mlflow.set_tracking_uri(\"http://127.0.0.1:5000\")\n",
    "print(\"MLflow tracking URI set to http://127.0.0.1:5000\")"
   ]
  },
  {
   "cell_type": "code",
   "execution_count": 28,
   "id": "44a865d8-8d91-460a-b13a-dc9f834d1476",
   "metadata": {},
   "outputs": [
    {
     "name": "stderr",
     "output_type": "stream",
     "text": [
      "\u001b[31m2024/12/24 00:27:37 WARNING mlflow.models.model: Model logged without a signature and input example. Please set `input_example` parameter when logging the model to auto infer the model signature.\u001b[0m\n"
     ]
    },
    {
     "name": "stdout",
     "output_type": "stream",
     "text": [
      "🏃 View run magnificent-dove-71 at: http://127.0.0.1:5000/#/experiments/980259606206388124/runs/6db61e940f6546708b6e3d7f62fd4e09\n",
      "🧪 View experiment at: http://127.0.0.1:5000/#/experiments/980259606206388124\n"
     ]
    }
   ],
   "source": [
    "mlflow.set_experiment(\"First experiment\")\n",
    "\n",
    "with mlflow.start_run():\n",
    "    mlflow.log_params(params)\n",
    "    mlflow.log_metrics({\n",
    "        'accuracy': report_dict['accuracy'],\n",
    "        'recall_class_0': report_dict['0']['recall'],\n",
    "        'recall_class_1': report_dict['1']['recall'],\n",
    "        'f1_score_macro': report_dict['macro avg']['f1-score']\n",
    "    })\n",
    "    mlflow.sklearn.log_model(lr, \"Logistic Regression\")  \n"
   ]
  },
  {
   "cell_type": "code",
   "execution_count": null,
   "id": "72b9a866-6a7f-4c70-98e3-a903a9cb1812",
   "metadata": {},
   "outputs": [],
   "source": []
  }
 ],
 "metadata": {
  "kernelspec": {
   "display_name": "Python 3 (ipykernel)",
   "language": "python",
   "name": "python3"
  },
  "language_info": {
   "codemirror_mode": {
    "name": "ipython",
    "version": 3
   },
   "file_extension": ".py",
   "mimetype": "text/x-python",
   "name": "python",
   "nbconvert_exporter": "python",
   "pygments_lexer": "ipython3",
   "version": "3.11.8"
  },
  "widgets": {
   "application/vnd.jupyter.widget-state+json": {
    "state": {},
    "version_major": 2,
    "version_minor": 0
   }
  }
 },
 "nbformat": 4,
 "nbformat_minor": 5
}
